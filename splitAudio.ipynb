{
  "nbformat": 4,
  "nbformat_minor": 0,
  "metadata": {
    "colab": {
      "provenance": [],
      "authorship_tag": "ABX9TyO6MYG/8aYeSTcP3YDZLxey",
      "include_colab_link": true
    },
    "kernelspec": {
      "name": "python3",
      "display_name": "Python 3"
    },
    "language_info": {
      "name": "python"
    }
  },
  "cells": [
    {
      "cell_type": "markdown",
      "metadata": {
        "id": "view-in-github",
        "colab_type": "text"
      },
      "source": [
        "<a href=\"https://colab.research.google.com/github/chunsengwong/the-speech-emotion-recognition/blob/main/splitAudio.ipynb\" target=\"_parent\"><img src=\"https://colab.research.google.com/assets/colab-badge.svg\" alt=\"Open In Colab\"/></a>"
      ]
    },
    {
      "cell_type": "code",
      "execution_count": 18,
      "metadata": {
        "colab": {
          "base_uri": "https://localhost:8080/"
        },
        "id": "EJpaAdWmAQN1",
        "outputId": "e652aaa6-ff31-4460-960c-d4f9bb4400e7"
      },
      "outputs": [
        {
          "output_type": "stream",
          "name": "stdout",
          "text": [
            "Looking in indexes: https://pypi.org/simple, https://us-python.pkg.dev/colab-wheels/public/simple/\n",
            "Requirement already satisfied: google-cloud-speech in /usr/local/lib/python3.7/dist-packages (2.16.2)\n",
            "Requirement already satisfied: protobuf!=3.20.0,!=3.20.1,!=4.21.0,!=4.21.1,!=4.21.2,!=4.21.3,!=4.21.4,!=4.21.5,<5.0.0dev,>=3.19.5 in /usr/local/lib/python3.7/dist-packages (from google-cloud-speech) (3.19.6)\n",
            "Requirement already satisfied: google-api-core[grpc]!=2.0.*,!=2.1.*,!=2.2.*,!=2.3.*,!=2.4.*,!=2.5.*,!=2.6.*,!=2.7.*,<3.0.0dev,>=1.32.0 in /usr/local/lib/python3.7/dist-packages (from google-cloud-speech) (2.8.2)\n",
            "Requirement already satisfied: proto-plus<2.0.0dev,>=1.22.0 in /usr/local/lib/python3.7/dist-packages (from google-cloud-speech) (1.22.1)\n",
            "Requirement already satisfied: googleapis-common-protos<2.0dev,>=1.56.2 in /usr/local/lib/python3.7/dist-packages (from google-api-core[grpc]!=2.0.*,!=2.1.*,!=2.2.*,!=2.3.*,!=2.4.*,!=2.5.*,!=2.6.*,!=2.7.*,<3.0.0dev,>=1.32.0->google-cloud-speech) (1.57.0)\n",
            "Requirement already satisfied: requests<3.0.0dev,>=2.18.0 in /usr/local/lib/python3.7/dist-packages (from google-api-core[grpc]!=2.0.*,!=2.1.*,!=2.2.*,!=2.3.*,!=2.4.*,!=2.5.*,!=2.6.*,!=2.7.*,<3.0.0dev,>=1.32.0->google-cloud-speech) (2.23.0)\n",
            "Requirement already satisfied: google-auth<3.0dev,>=1.25.0 in /usr/local/lib/python3.7/dist-packages (from google-api-core[grpc]!=2.0.*,!=2.1.*,!=2.2.*,!=2.3.*,!=2.4.*,!=2.5.*,!=2.6.*,!=2.7.*,<3.0.0dev,>=1.32.0->google-cloud-speech) (2.14.1)\n",
            "Requirement already satisfied: grpcio-status<2.0dev,>=1.33.2 in /usr/local/lib/python3.7/dist-packages (from google-api-core[grpc]!=2.0.*,!=2.1.*,!=2.2.*,!=2.3.*,!=2.4.*,!=2.5.*,!=2.6.*,!=2.7.*,<3.0.0dev,>=1.32.0->google-cloud-speech) (1.48.2)\n",
            "Requirement already satisfied: grpcio<2.0dev,>=1.33.2 in /usr/local/lib/python3.7/dist-packages (from google-api-core[grpc]!=2.0.*,!=2.1.*,!=2.2.*,!=2.3.*,!=2.4.*,!=2.5.*,!=2.6.*,!=2.7.*,<3.0.0dev,>=1.32.0->google-cloud-speech) (1.50.0)\n",
            "Requirement already satisfied: six>=1.9.0 in /usr/local/lib/python3.7/dist-packages (from google-auth<3.0dev,>=1.25.0->google-api-core[grpc]!=2.0.*,!=2.1.*,!=2.2.*,!=2.3.*,!=2.4.*,!=2.5.*,!=2.6.*,!=2.7.*,<3.0.0dev,>=1.32.0->google-cloud-speech) (1.15.0)\n",
            "Requirement already satisfied: rsa<5,>=3.1.4 in /usr/local/lib/python3.7/dist-packages (from google-auth<3.0dev,>=1.25.0->google-api-core[grpc]!=2.0.*,!=2.1.*,!=2.2.*,!=2.3.*,!=2.4.*,!=2.5.*,!=2.6.*,!=2.7.*,<3.0.0dev,>=1.32.0->google-cloud-speech) (4.9)\n",
            "Requirement already satisfied: pyasn1-modules>=0.2.1 in /usr/local/lib/python3.7/dist-packages (from google-auth<3.0dev,>=1.25.0->google-api-core[grpc]!=2.0.*,!=2.1.*,!=2.2.*,!=2.3.*,!=2.4.*,!=2.5.*,!=2.6.*,!=2.7.*,<3.0.0dev,>=1.32.0->google-cloud-speech) (0.2.8)\n",
            "Requirement already satisfied: cachetools<6.0,>=2.0.0 in /usr/local/lib/python3.7/dist-packages (from google-auth<3.0dev,>=1.25.0->google-api-core[grpc]!=2.0.*,!=2.1.*,!=2.2.*,!=2.3.*,!=2.4.*,!=2.5.*,!=2.6.*,!=2.7.*,<3.0.0dev,>=1.32.0->google-cloud-speech) (5.2.0)\n",
            "Requirement already satisfied: pyasn1<0.5.0,>=0.4.6 in /usr/local/lib/python3.7/dist-packages (from pyasn1-modules>=0.2.1->google-auth<3.0dev,>=1.25.0->google-api-core[grpc]!=2.0.*,!=2.1.*,!=2.2.*,!=2.3.*,!=2.4.*,!=2.5.*,!=2.6.*,!=2.7.*,<3.0.0dev,>=1.32.0->google-cloud-speech) (0.4.8)\n",
            "Requirement already satisfied: chardet<4,>=3.0.2 in /usr/local/lib/python3.7/dist-packages (from requests<3.0.0dev,>=2.18.0->google-api-core[grpc]!=2.0.*,!=2.1.*,!=2.2.*,!=2.3.*,!=2.4.*,!=2.5.*,!=2.6.*,!=2.7.*,<3.0.0dev,>=1.32.0->google-cloud-speech) (3.0.4)\n",
            "Requirement already satisfied: certifi>=2017.4.17 in /usr/local/lib/python3.7/dist-packages (from requests<3.0.0dev,>=2.18.0->google-api-core[grpc]!=2.0.*,!=2.1.*,!=2.2.*,!=2.3.*,!=2.4.*,!=2.5.*,!=2.6.*,!=2.7.*,<3.0.0dev,>=1.32.0->google-cloud-speech) (2022.9.24)\n",
            "Requirement already satisfied: urllib3!=1.25.0,!=1.25.1,<1.26,>=1.21.1 in /usr/local/lib/python3.7/dist-packages (from requests<3.0.0dev,>=2.18.0->google-api-core[grpc]!=2.0.*,!=2.1.*,!=2.2.*,!=2.3.*,!=2.4.*,!=2.5.*,!=2.6.*,!=2.7.*,<3.0.0dev,>=1.32.0->google-cloud-speech) (1.24.3)\n",
            "Requirement already satisfied: idna<3,>=2.5 in /usr/local/lib/python3.7/dist-packages (from requests<3.0.0dev,>=2.18.0->google-api-core[grpc]!=2.0.*,!=2.1.*,!=2.2.*,!=2.3.*,!=2.4.*,!=2.5.*,!=2.6.*,!=2.7.*,<3.0.0dev,>=1.32.0->google-cloud-speech) (2.10)\n",
            "\u001b[31mERROR: You must give at least one requirement to install (see \"pip help install\")\u001b[0m\n"
          ]
        }
      ],
      "source": [
        "import os\n",
        "#install google cloud speech\n",
        "!pip install --upgrade google-cloud-speech\n",
        "!pip install \n",
        "from google.cloud import speech\n"
      ]
    },
    {
      "cell_type": "code",
      "source": [
        "#allow permission to upload \n",
        "from google.colab import drive\n",
        "drive.mount('/content/drive')"
      ],
      "metadata": {
        "id": "kWYT9dvsHk4i",
        "colab": {
          "base_uri": "https://localhost:8080/"
        },
        "outputId": "e1665fa8-0be1-4c25-b767-d96c22f72ad8"
      },
      "execution_count": 19,
      "outputs": [
        {
          "output_type": "stream",
          "name": "stdout",
          "text": [
            "Mounted at /content/drive\n"
          ]
        }
      ]
    },
    {
      "cell_type": "code",
      "source": [
        "#set google environment & credentials\n",
        "os.environ['GOOGLE_APPLICATION_CREDENTIALS']= '/content/focus-cache-352904-ed1cafe80d42.json'\n",
        "speech_client=speech.SpeechClient()\n",
        "!ls -l $GOOGLE_APPLICATION_CREDENTIALS\n"
      ],
      "metadata": {
        "id": "TtZeBSb4C43J",
        "colab": {
          "base_uri": "https://localhost:8080/"
        },
        "outputId": "2b35a9a8-0fd3-4f5f-ce5a-39bfe734f6a0"
      },
      "execution_count": null,
      "outputs": [
        {
          "output_type": "stream",
          "name": "stdout",
          "text": [
            "-rw-r--r-- 1 root root 2325 Nov 23 07:24 /content/focus-cache-352904-ed1cafe80d42.json\n"
          ]
        }
      ]
    },
    {
      "cell_type": "code",
      "source": [
        "#read wav file \n",
        "\n",
        "path='/content/sample1.wav'\n",
        "with open(path, \"rb\") as audio_file:\n",
        "    wavfile = audio_file.read()\n"
      ],
      "metadata": {
        "id": "BHO46K2AWaIj"
      },
      "execution_count": null,
      "outputs": []
    },
    {
      "cell_type": "code",
      "source": [
        "!pip install pydub\n"
      ],
      "metadata": {
        "colab": {
          "base_uri": "https://localhost:8080/"
        },
        "id": "NF2B5bRaYpUP",
        "outputId": "5d1216ea-579f-473a-ad14-068fb89d925d"
      },
      "execution_count": null,
      "outputs": [
        {
          "output_type": "stream",
          "name": "stdout",
          "text": [
            "Looking in indexes: https://pypi.org/simple, https://us-python.pkg.dev/colab-wheels/public/simple/\n",
            "Collecting pydub\n",
            "  Downloading pydub-0.25.1-py2.py3-none-any.whl (32 kB)\n",
            "Installing collected packages: pydub\n",
            "Successfully installed pydub-0.25.1\n"
          ]
        }
      ]
    },
    {
      "cell_type": "code",
      "source": [
        "#import for audio functions\n",
        "from pydub import AudioSegment\n",
        "from pydub.playback import play\n",
        "from IPython.display import Audio, display\n"
      ],
      "metadata": {
        "id": "BMmvYe9BZ5Uk"
      },
      "execution_count": 20,
      "outputs": []
    },
    {
      "cell_type": "code",
      "source": [
        "#t1 start, t2 end\n",
        "t1 = 0 * 1000 \n",
        "#Works in milliseconds\n",
        "t2 = 4.5 * 1000\n",
        "newAudio = AudioSegment.from_wav('/content/sample1.wav')\n",
        "newAudio = newAudio[t1:t2]\n",
        "newAudio.export('newSong.wav', format=\"wav\")\n",
        "sound = AudioSegment.from_file(\"newSong.wav\", format=\"wav\")\n",
        "display(newAudio)\n",
        "#display(Audio('/content/newSong.wav', autoplay=True))"
      ],
      "metadata": {
        "id": "O-SCmQsdgVkv",
        "colab": {
          "base_uri": "https://localhost:8080/",
          "height": 52
        },
        "outputId": "183cdde8-08c4-42c3-ec8a-da533d01e8e8"
      },
      "execution_count": 26,
      "outputs": [
        {
          "output_type": "display_data",
          "data": {
            "text/plain": [
              "<pydub.audio_segment.AudioSegment at 0x7fa71d472410>"
            ],
            "text/html": [
              "\n",
              "                    <audio controls>\n",
              "                        <source src=\"data:audio/mpeg;base64,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\" type=\"audio/mpeg\"/>\n",
              "                        Your browser does not support the audio element.\n",
              "                    </audio>\n",
              "                  "
            ]
          },
          "metadata": {}
        }
      ]
    }
  ]
}