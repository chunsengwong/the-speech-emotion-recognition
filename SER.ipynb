{
  "nbformat": 4,
  "nbformat_minor": 0,
  "metadata": {
    "colab": {
      "provenance": [],
      "authorship_tag": "ABX9TyOeTnreyWxcA0rtpEvPsO1X",
      "include_colab_link": true
    },
    "kernelspec": {
      "name": "python3",
      "display_name": "Python 3"
    },
    "language_info": {
      "name": "python"
    }
  },
  "cells": [
    {
      "cell_type": "markdown",
      "metadata": {
        "id": "view-in-github",
        "colab_type": "text"
      },
      "source": [
        "<a href=\"https://colab.research.google.com/github/chunsengwong/the-speech-emotion-recognition/blob/main/SER.ipynb\" target=\"_parent\"><img src=\"https://colab.research.google.com/assets/colab-badge.svg\" alt=\"Open In Colab\"/></a>"
      ]
    },
    {
      "cell_type": "code",
      "source": [
        "from matplotlib.pyplot import fill\n",
        "import pickle\n",
        "import librosa\n",
        "from librosa import feature\n",
        "import soundfile\n",
        "import numpy as np"
      ],
      "metadata": {
        "id": "B87G_LV6XlfB"
      },
      "execution_count": 4,
      "outputs": []
    },
    {
      "cell_type": "code",
      "source": [
        "def extractFeature (fileName, mfcc, chroma, mel ):\n",
        "    with soundfile.SoundFile(fileName) as soundFile:\n",
        "        X=soundFile.read(dtype=\"float32\")\n",
        "        sampleRate=soundFile.samplerate\n",
        "        if chroma:\n",
        "            stft=np.abs(librosa.stft(X))\n",
        "        result=np.array([])\n",
        "        if mfcc:\n",
        "            mfccs=np.mean(librosa.feature.mfcc(y=X, sr=sampleRate, n_mfcc=40).T, axis=0)\n",
        "            result=np.hstack((result, mfccs))\n",
        "\n",
        "        if chroma:\n",
        "            chroma=np.mean(librosa.feature.chroma_stft(S=stft, sr=sampleRate).T, axis=0)\n",
        "            result=np.hstack((result, chroma))\n",
        "\n",
        "        if mel:\n",
        "            mel=np.mean(librosa.feature.melspectrogram(X, sr=sampleRate).T,axis=0)\n",
        "            result=np.hstack((result,mel))\n",
        "    return result"
      ],
      "metadata": {
        "id": "xM0CiyPAYvIx"
      },
      "execution_count": 5,
      "outputs": []
    },
    {
      "cell_type": "code",
      "source": [
        "feature=extractFeature(\"/content/sample1.wav\", mfcc=True, chroma=True, mel=True) \n"
      ],
      "metadata": {
        "id": "xciOXnnhY90A"
      },
      "execution_count": 11,
      "outputs": []
    },
    {
      "cell_type": "code",
      "execution_count": 17,
      "metadata": {
        "id": "axq_fmxxXRr0"
      },
      "outputs": [],
      "source": [
        "def MLPfunction(feature):\n",
        "    loaded_model = pickle.load(open(\"SER.sav\", 'rb'))\n",
        "    y_pre=loaded_model.predict([feature])\n",
        "    print(y_pre)\n"
      ]
    },
    {
      "cell_type": "code",
      "source": [
        "MLPfunction(feature)"
      ],
      "metadata": {
        "colab": {
          "base_uri": "https://localhost:8080/"
        },
        "id": "zo6fEmbnf_j_",
        "outputId": "a4a4e73e-0d6b-4eb4-ef5c-f0dc3f3ab9f8"
      },
      "execution_count": 18,
      "outputs": [
        {
          "output_type": "stream",
          "name": "stdout",
          "text": [
            "['happy']\n"
          ]
        }
      ]
    }
  ]
}