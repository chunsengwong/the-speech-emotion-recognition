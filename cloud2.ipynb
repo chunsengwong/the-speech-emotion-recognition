{
  "nbformat": 4,
  "nbformat_minor": 0,
  "metadata": {
    "colab": {
      "provenance": [],
      "authorship_tag": "ABX9TyNoI+OqFpgp7AE/VwoN6j1t",
      "include_colab_link": true
    },
    "kernelspec": {
      "name": "python3",
      "display_name": "Python 3"
    },
    "language_info": {
      "name": "python"
    }
  },
  "cells": [
    {
      "cell_type": "markdown",
      "metadata": {
        "id": "view-in-github",
        "colab_type": "text"
      },
      "source": [
        "<a href=\"https://colab.research.google.com/github/chunsengwong/the-speech-emotion-recognition/blob/main/cloud2.ipynb\" target=\"_parent\"><img src=\"https://colab.research.google.com/assets/colab-badge.svg\" alt=\"Open In Colab\"/></a>"
      ]
    },
    {
      "cell_type": "code",
      "execution_count": 1,
      "metadata": {
        "colab": {
          "base_uri": "https://localhost:8080/",
          "height": 514
        },
        "id": "EJpaAdWmAQN1",
        "outputId": "ffd3d5c0-96da-4133-c4d6-07c9a3f02034"
      },
      "outputs": [
        {
          "output_type": "stream",
          "name": "stdout",
          "text": [
            "Looking in indexes: https://pypi.org/simple, https://us-python.pkg.dev/colab-wheels/public/simple/\n",
            "Collecting google-cloud-speech\n",
            "  Downloading google_cloud_speech-2.16.2-py2.py3-none-any.whl (228 kB)\n",
            "\u001b[K     |████████████████████████████████| 228 kB 5.1 MB/s \n",
            "\u001b[?25hRequirement already satisfied: protobuf!=3.20.0,!=3.20.1,!=4.21.0,!=4.21.1,!=4.21.2,!=4.21.3,!=4.21.4,!=4.21.5,<5.0.0dev,>=3.19.5 in /usr/local/lib/python3.7/dist-packages (from google-cloud-speech) (3.19.6)\n",
            "Requirement already satisfied: google-api-core[grpc]!=2.0.*,!=2.1.*,!=2.2.*,!=2.3.*,!=2.4.*,!=2.5.*,!=2.6.*,!=2.7.*,<3.0.0dev,>=1.32.0 in /usr/local/lib/python3.7/dist-packages (from google-cloud-speech) (2.8.2)\n",
            "Requirement already satisfied: proto-plus<2.0.0dev,>=1.22.0 in /usr/local/lib/python3.7/dist-packages (from google-cloud-speech) (1.22.1)\n",
            "Requirement already satisfied: googleapis-common-protos<2.0dev,>=1.56.2 in /usr/local/lib/python3.7/dist-packages (from google-api-core[grpc]!=2.0.*,!=2.1.*,!=2.2.*,!=2.3.*,!=2.4.*,!=2.5.*,!=2.6.*,!=2.7.*,<3.0.0dev,>=1.32.0->google-cloud-speech) (1.57.0)\n",
            "Requirement already satisfied: google-auth<3.0dev,>=1.25.0 in /usr/local/lib/python3.7/dist-packages (from google-api-core[grpc]!=2.0.*,!=2.1.*,!=2.2.*,!=2.3.*,!=2.4.*,!=2.5.*,!=2.6.*,!=2.7.*,<3.0.0dev,>=1.32.0->google-cloud-speech) (2.14.1)\n",
            "Requirement already satisfied: requests<3.0.0dev,>=2.18.0 in /usr/local/lib/python3.7/dist-packages (from google-api-core[grpc]!=2.0.*,!=2.1.*,!=2.2.*,!=2.3.*,!=2.4.*,!=2.5.*,!=2.6.*,!=2.7.*,<3.0.0dev,>=1.32.0->google-cloud-speech) (2.23.0)\n",
            "Requirement already satisfied: grpcio<2.0dev,>=1.33.2 in /usr/local/lib/python3.7/dist-packages (from google-api-core[grpc]!=2.0.*,!=2.1.*,!=2.2.*,!=2.3.*,!=2.4.*,!=2.5.*,!=2.6.*,!=2.7.*,<3.0.0dev,>=1.32.0->google-cloud-speech) (1.50.0)\n",
            "Requirement already satisfied: grpcio-status<2.0dev,>=1.33.2 in /usr/local/lib/python3.7/dist-packages (from google-api-core[grpc]!=2.0.*,!=2.1.*,!=2.2.*,!=2.3.*,!=2.4.*,!=2.5.*,!=2.6.*,!=2.7.*,<3.0.0dev,>=1.32.0->google-cloud-speech) (1.48.2)\n",
            "Requirement already satisfied: cachetools<6.0,>=2.0.0 in /usr/local/lib/python3.7/dist-packages (from google-auth<3.0dev,>=1.25.0->google-api-core[grpc]!=2.0.*,!=2.1.*,!=2.2.*,!=2.3.*,!=2.4.*,!=2.5.*,!=2.6.*,!=2.7.*,<3.0.0dev,>=1.32.0->google-cloud-speech) (5.2.0)\n",
            "Requirement already satisfied: pyasn1-modules>=0.2.1 in /usr/local/lib/python3.7/dist-packages (from google-auth<3.0dev,>=1.25.0->google-api-core[grpc]!=2.0.*,!=2.1.*,!=2.2.*,!=2.3.*,!=2.4.*,!=2.5.*,!=2.6.*,!=2.7.*,<3.0.0dev,>=1.32.0->google-cloud-speech) (0.2.8)\n",
            "Requirement already satisfied: rsa<5,>=3.1.4 in /usr/local/lib/python3.7/dist-packages (from google-auth<3.0dev,>=1.25.0->google-api-core[grpc]!=2.0.*,!=2.1.*,!=2.2.*,!=2.3.*,!=2.4.*,!=2.5.*,!=2.6.*,!=2.7.*,<3.0.0dev,>=1.32.0->google-cloud-speech) (4.9)\n",
            "Requirement already satisfied: six>=1.9.0 in /usr/local/lib/python3.7/dist-packages (from google-auth<3.0dev,>=1.25.0->google-api-core[grpc]!=2.0.*,!=2.1.*,!=2.2.*,!=2.3.*,!=2.4.*,!=2.5.*,!=2.6.*,!=2.7.*,<3.0.0dev,>=1.32.0->google-cloud-speech) (1.15.0)\n",
            "Requirement already satisfied: pyasn1<0.5.0,>=0.4.6 in /usr/local/lib/python3.7/dist-packages (from pyasn1-modules>=0.2.1->google-auth<3.0dev,>=1.25.0->google-api-core[grpc]!=2.0.*,!=2.1.*,!=2.2.*,!=2.3.*,!=2.4.*,!=2.5.*,!=2.6.*,!=2.7.*,<3.0.0dev,>=1.32.0->google-cloud-speech) (0.4.8)\n",
            "Requirement already satisfied: chardet<4,>=3.0.2 in /usr/local/lib/python3.7/dist-packages (from requests<3.0.0dev,>=2.18.0->google-api-core[grpc]!=2.0.*,!=2.1.*,!=2.2.*,!=2.3.*,!=2.4.*,!=2.5.*,!=2.6.*,!=2.7.*,<3.0.0dev,>=1.32.0->google-cloud-speech) (3.0.4)\n",
            "Requirement already satisfied: idna<3,>=2.5 in /usr/local/lib/python3.7/dist-packages (from requests<3.0.0dev,>=2.18.0->google-api-core[grpc]!=2.0.*,!=2.1.*,!=2.2.*,!=2.3.*,!=2.4.*,!=2.5.*,!=2.6.*,!=2.7.*,<3.0.0dev,>=1.32.0->google-cloud-speech) (2.10)\n",
            "Requirement already satisfied: urllib3!=1.25.0,!=1.25.1,<1.26,>=1.21.1 in /usr/local/lib/python3.7/dist-packages (from requests<3.0.0dev,>=2.18.0->google-api-core[grpc]!=2.0.*,!=2.1.*,!=2.2.*,!=2.3.*,!=2.4.*,!=2.5.*,!=2.6.*,!=2.7.*,<3.0.0dev,>=1.32.0->google-cloud-speech) (1.24.3)\n",
            "Requirement already satisfied: certifi>=2017.4.17 in /usr/local/lib/python3.7/dist-packages (from requests<3.0.0dev,>=2.18.0->google-api-core[grpc]!=2.0.*,!=2.1.*,!=2.2.*,!=2.3.*,!=2.4.*,!=2.5.*,!=2.6.*,!=2.7.*,<3.0.0dev,>=1.32.0->google-cloud-speech) (2022.9.24)\n",
            "Installing collected packages: google-cloud-speech\n",
            "Successfully installed google-cloud-speech-2.16.2\n"
          ]
        },
        {
          "output_type": "display_data",
          "data": {
            "application/vnd.colab-display-data+json": {
              "pip_warning": {
                "packages": [
                  "google"
                ]
              }
            }
          },
          "metadata": {}
        }
      ],
      "source": [
        "import os\n",
        "#install google cloud speech\n",
        "!pip install --upgrade google-cloud-speech\n",
        "from google.cloud import speech\n"
      ]
    },
    {
      "cell_type": "code",
      "source": [
        "#allow permission to upload \n",
        "from google.colab import drive\n",
        "drive.mount('/content/drive')"
      ],
      "metadata": {
        "id": "kWYT9dvsHk4i",
        "colab": {
          "base_uri": "https://localhost:8080/"
        },
        "outputId": "a6e2f36f-5799-47fc-f86f-388cf852548c"
      },
      "execution_count": 2,
      "outputs": [
        {
          "output_type": "stream",
          "name": "stdout",
          "text": [
            "Mounted at /content/drive\n"
          ]
        }
      ]
    },
    {
      "cell_type": "code",
      "source": [
        "#set google environment & credentials\n",
        "os.environ['GOOGLE_APPLICATION_CREDENTIALS']= '/content/focus-cache-352904-ed1cafe80d42.json'\n",
        "speech_client=speech.SpeechClient()\n",
        "!ls -l $GOOGLE_APPLICATION_CREDENTIALS\n"
      ],
      "metadata": {
        "id": "TtZeBSb4C43J",
        "colab": {
          "base_uri": "https://localhost:8080/"
        },
        "outputId": "d2ad185a-8b06-4f91-e9e0-df4bda50aec8"
      },
      "execution_count": 4,
      "outputs": [
        {
          "output_type": "stream",
          "name": "stdout",
          "text": [
            "-rw-r--r-- 1 root root 2325 Nov 23 02:49 /content/focus-cache-352904-ed1cafe80d42.json\n"
          ]
        }
      ]
    },
    {
      "cell_type": "code",
      "source": [
        "#read wav file \n",
        "\n",
        "path='/content/sample1.wav'\n",
        "with open(path, \"rb\") as audio_file:\n",
        "    wavfile = audio_file.read()\n"
      ],
      "metadata": {
        "id": "BHO46K2AWaIj"
      },
      "execution_count": 5,
      "outputs": []
    },
    {
      "cell_type": "code",
      "source": [
        "#configure wav file\n",
        "audioWav = speech.RecognitionAudio(content=wavfile)\n",
        "configWav = speech.RecognitionConfig(\n",
        "       encoding = 'LINEAR16',\n",
        "        language_code = 'en-US',\n",
        "        #sample_rate_hertz = 8000,\n",
        "        #audio_channel_count = 2,\n",
        "        enable_automatic_punctuation=True,\n",
        "        enable_word_time_offsets=True\n",
        ")\n"
      ],
      "metadata": {
        "id": "O-SCmQsdgVkv"
      },
      "execution_count": 6,
      "outputs": []
    },
    {
      "cell_type": "code",
      "source": [
        "from scipy.io import wavfile # to read and write audio files\n",
        "import IPython #to play them in jupyter notebook without the hassle of some other library\n",
        "\n",
        "def PlayAudioSegment(filepath, start, end, channel='none'):\n",
        "    \n",
        "    # get sample rate and audio data\n",
        "    sample_rate, audio_data = wavfile.read(filepath) # where filepath = 'directory/audio.wav'\n",
        "    \n",
        "    #get length in minutes of audio file\n",
        "    print('duration: ', audio_data.shape[0] / sample_rate / 60,'min')\n",
        "    \n",
        "    ## splice the audio with prefered start and end times\n",
        "    spliced_audio = audio_data[start * sample_rate : end * sample_rate, :]\n",
        "        \n",
        "    ## choose left or right channel if preferred (0 or 1 for left and right, respectively; or leave as a string to keep as stereo)\n",
        "    spliced_audio = spliced_audio[:,channel] if type(channel)==int else spliced_audio \n",
        "        \n",
        "    ## playback natively with IPython; shape needs to be (nChannel,nSamples)\n",
        "    return IPython.display.Audio(spliced_audio.T, rate=sample_rate)"
      ],
      "metadata": {
        "id": "zGZdPGNRc_Bp"
      },
      "execution_count": 12,
      "outputs": []
    },
    {
      "cell_type": "code",
      "source": [
        "#transcript and automatic punctuation added \n",
        "response = speech_client.recognize(config=configWav, audio=audioWav)\n",
        "\n",
        "for i, result in enumerate(response.results):\n",
        "    alternative = result.alternatives[0]\n",
        "    print(\"-\" * 20)\n",
        "    print(\"First alternative of result {}\".format(i))\n",
        "    print(\"Transcript: {}\".format(alternative.transcript))\n",
        "    for word_info in alternative.words:\n",
        "            word = word_info.word\n",
        "            start_time = word_info.start_time\n",
        "            end_time = word_info.end_time\n",
        "            if word[-1]=='.' or word[-1]==',':\n",
        "              print(\n",
        "                  f\"Word: {word}, start_time: {start_time.total_seconds()}, end_time: {end_time.total_seconds()}\"\n",
        "              )\n",
        "              \n"
      ],
      "metadata": {
        "colab": {
          "base_uri": "https://localhost:8080/"
        },
        "id": "TLDipJ6hgaKx",
        "outputId": "3d64d2b9-69de-449a-bc9b-05ece6a006e4"
      },
      "execution_count": 28,
      "outputs": [
        {
          "output_type": "stream",
          "name": "stdout",
          "text": [
            "--------------------\n",
            "First alternative of result 0\n",
            "Transcript: Painted the sockets in the wall Bill Green. The child crawled into the dense grass, Brides fail, we're honest men work.\n",
            "Word: Green., start_time: 4.2, end_time: 4.5\n",
            "Word: grass,, start_time: 7.3, end_time: 7.6\n",
            "Word: fail,, start_time: 9.2, end_time: 9.5\n",
            "Word: work., start_time: 10.4, end_time: 10.9\n",
            "--------------------\n",
            "First alternative of result 1\n",
            "Transcript:  Trampled the spark else. The Flames will spread. The hilt of the sword was carved with Fine Designs. A round hole was drilled through the thin board.\n",
            "Word: else., start_time: 13.1, end_time: 13.7\n",
            "Word: spread., start_time: 14.6, end_time: 15.1\n",
            "Word: Designs., start_time: 18.8, end_time: 19.8\n",
            "Word: board., start_time: 23.2, end_time: 23.8\n",
            "--------------------\n",
            "First alternative of result 2\n",
            "Transcript:  Footprints show to the Past. He took up the beach.\n",
            "Word: Past., start_time: 26.9, end_time: 27.5\n",
            "Word: beach., start_time: 28.4, end_time: 29.0\n",
            "--------------------\n",
            "First alternative of result 3\n",
            "Transcript:  She was waiting at my front lawn.\n",
            "Word: lawn., start_time: 32.0, end_time: 32.4\n",
            "--------------------\n",
            "First alternative of result 4\n",
            "Transcript:  Event near the edge, brought in fresh air.\n",
            "Word: edge,, start_time: 34.8, end_time: 35.0\n",
            "Word: air., start_time: 36.1, end_time: 36.4\n",
            "--------------------\n",
            "First alternative of result 5\n",
            "Transcript:  Prod, the old mule with a Crooked Stick.\n",
            "Word: Prod,, start_time: 37.7, end_time: 38.2\n",
            "Word: Stick., start_time: 40.2, end_time: 40.9\n"
          ]
        }
      ]
    }
  ]
}