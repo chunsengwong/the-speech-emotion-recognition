{
  "nbformat": 4,
  "nbformat_minor": 0,
  "metadata": {
    "colab": {
      "provenance": [],
      "authorship_tag": "ABX9TyP9WTIZBe81YOGu4dF6CggO",
      "include_colab_link": true
    },
    "kernelspec": {
      "name": "python3",
      "display_name": "Python 3"
    },
    "language_info": {
      "name": "python"
    }
  },
  "cells": [
    {
      "cell_type": "markdown",
      "metadata": {
        "id": "view-in-github",
        "colab_type": "text"
      },
      "source": [
        "<a href=\"https://colab.research.google.com/github/chunsengwong/the-speech-emotion-recognition/blob/main/ASS.ipynb\" target=\"_parent\"><img src=\"https://colab.research.google.com/assets/colab-badge.svg\" alt=\"Open In Colab\"/></a>"
      ]
    },
    {
      "cell_type": "code",
      "execution_count": 1,
      "metadata": {
        "colab": {
          "base_uri": "https://localhost:8080/",
          "height": 616
        },
        "id": "ihVZxYdYhKRd",
        "outputId": "20708027-a8d8-460c-e75a-f695fa114895"
      },
      "outputs": [
        {
          "output_type": "stream",
          "name": "stdout",
          "text": [
            "Looking in indexes: https://pypi.org/simple, https://us-python.pkg.dev/colab-wheels/public/simple/\n",
            "Collecting google-cloud-speech\n",
            "  Downloading google_cloud_speech-2.16.2-py2.py3-none-any.whl (228 kB)\n",
            "\u001b[K     |████████████████████████████████| 228 kB 13.9 MB/s \n",
            "\u001b[?25hRequirement already satisfied: google-api-core[grpc]!=2.0.*,!=2.1.*,!=2.2.*,!=2.3.*,!=2.4.*,!=2.5.*,!=2.6.*,!=2.7.*,<3.0.0dev,>=1.32.0 in /usr/local/lib/python3.7/dist-packages (from google-cloud-speech) (2.8.2)\n",
            "Requirement already satisfied: protobuf!=3.20.0,!=3.20.1,!=4.21.0,!=4.21.1,!=4.21.2,!=4.21.3,!=4.21.4,!=4.21.5,<5.0.0dev,>=3.19.5 in /usr/local/lib/python3.7/dist-packages (from google-cloud-speech) (3.19.6)\n",
            "Requirement already satisfied: proto-plus<2.0.0dev,>=1.22.0 in /usr/local/lib/python3.7/dist-packages (from google-cloud-speech) (1.22.1)\n",
            "Requirement already satisfied: requests<3.0.0dev,>=2.18.0 in /usr/local/lib/python3.7/dist-packages (from google-api-core[grpc]!=2.0.*,!=2.1.*,!=2.2.*,!=2.3.*,!=2.4.*,!=2.5.*,!=2.6.*,!=2.7.*,<3.0.0dev,>=1.32.0->google-cloud-speech) (2.23.0)\n",
            "Requirement already satisfied: google-auth<3.0dev,>=1.25.0 in /usr/local/lib/python3.7/dist-packages (from google-api-core[grpc]!=2.0.*,!=2.1.*,!=2.2.*,!=2.3.*,!=2.4.*,!=2.5.*,!=2.6.*,!=2.7.*,<3.0.0dev,>=1.32.0->google-cloud-speech) (2.14.1)\n",
            "Requirement already satisfied: googleapis-common-protos<2.0dev,>=1.56.2 in /usr/local/lib/python3.7/dist-packages (from google-api-core[grpc]!=2.0.*,!=2.1.*,!=2.2.*,!=2.3.*,!=2.4.*,!=2.5.*,!=2.6.*,!=2.7.*,<3.0.0dev,>=1.32.0->google-cloud-speech) (1.57.0)\n",
            "Requirement already satisfied: grpcio-status<2.0dev,>=1.33.2 in /usr/local/lib/python3.7/dist-packages (from google-api-core[grpc]!=2.0.*,!=2.1.*,!=2.2.*,!=2.3.*,!=2.4.*,!=2.5.*,!=2.6.*,!=2.7.*,<3.0.0dev,>=1.32.0->google-cloud-speech) (1.48.2)\n",
            "Requirement already satisfied: grpcio<2.0dev,>=1.33.2 in /usr/local/lib/python3.7/dist-packages (from google-api-core[grpc]!=2.0.*,!=2.1.*,!=2.2.*,!=2.3.*,!=2.4.*,!=2.5.*,!=2.6.*,!=2.7.*,<3.0.0dev,>=1.32.0->google-cloud-speech) (1.50.0)\n",
            "Requirement already satisfied: rsa<5,>=3.1.4 in /usr/local/lib/python3.7/dist-packages (from google-auth<3.0dev,>=1.25.0->google-api-core[grpc]!=2.0.*,!=2.1.*,!=2.2.*,!=2.3.*,!=2.4.*,!=2.5.*,!=2.6.*,!=2.7.*,<3.0.0dev,>=1.32.0->google-cloud-speech) (4.9)\n",
            "Requirement already satisfied: cachetools<6.0,>=2.0.0 in /usr/local/lib/python3.7/dist-packages (from google-auth<3.0dev,>=1.25.0->google-api-core[grpc]!=2.0.*,!=2.1.*,!=2.2.*,!=2.3.*,!=2.4.*,!=2.5.*,!=2.6.*,!=2.7.*,<3.0.0dev,>=1.32.0->google-cloud-speech) (5.2.0)\n",
            "Requirement already satisfied: six>=1.9.0 in /usr/local/lib/python3.7/dist-packages (from google-auth<3.0dev,>=1.25.0->google-api-core[grpc]!=2.0.*,!=2.1.*,!=2.2.*,!=2.3.*,!=2.4.*,!=2.5.*,!=2.6.*,!=2.7.*,<3.0.0dev,>=1.32.0->google-cloud-speech) (1.15.0)\n",
            "Requirement already satisfied: pyasn1-modules>=0.2.1 in /usr/local/lib/python3.7/dist-packages (from google-auth<3.0dev,>=1.25.0->google-api-core[grpc]!=2.0.*,!=2.1.*,!=2.2.*,!=2.3.*,!=2.4.*,!=2.5.*,!=2.6.*,!=2.7.*,<3.0.0dev,>=1.32.0->google-cloud-speech) (0.2.8)\n",
            "Requirement already satisfied: pyasn1<0.5.0,>=0.4.6 in /usr/local/lib/python3.7/dist-packages (from pyasn1-modules>=0.2.1->google-auth<3.0dev,>=1.25.0->google-api-core[grpc]!=2.0.*,!=2.1.*,!=2.2.*,!=2.3.*,!=2.4.*,!=2.5.*,!=2.6.*,!=2.7.*,<3.0.0dev,>=1.32.0->google-cloud-speech) (0.4.8)\n",
            "Requirement already satisfied: chardet<4,>=3.0.2 in /usr/local/lib/python3.7/dist-packages (from requests<3.0.0dev,>=2.18.0->google-api-core[grpc]!=2.0.*,!=2.1.*,!=2.2.*,!=2.3.*,!=2.4.*,!=2.5.*,!=2.6.*,!=2.7.*,<3.0.0dev,>=1.32.0->google-cloud-speech) (3.0.4)\n",
            "Requirement already satisfied: urllib3!=1.25.0,!=1.25.1,<1.26,>=1.21.1 in /usr/local/lib/python3.7/dist-packages (from requests<3.0.0dev,>=2.18.0->google-api-core[grpc]!=2.0.*,!=2.1.*,!=2.2.*,!=2.3.*,!=2.4.*,!=2.5.*,!=2.6.*,!=2.7.*,<3.0.0dev,>=1.32.0->google-cloud-speech) (1.24.3)\n",
            "Requirement already satisfied: certifi>=2017.4.17 in /usr/local/lib/python3.7/dist-packages (from requests<3.0.0dev,>=2.18.0->google-api-core[grpc]!=2.0.*,!=2.1.*,!=2.2.*,!=2.3.*,!=2.4.*,!=2.5.*,!=2.6.*,!=2.7.*,<3.0.0dev,>=1.32.0->google-cloud-speech) (2022.9.24)\n",
            "Requirement already satisfied: idna<3,>=2.5 in /usr/local/lib/python3.7/dist-packages (from requests<3.0.0dev,>=2.18.0->google-api-core[grpc]!=2.0.*,!=2.1.*,!=2.2.*,!=2.3.*,!=2.4.*,!=2.5.*,!=2.6.*,!=2.7.*,<3.0.0dev,>=1.32.0->google-cloud-speech) (2.10)\n",
            "Installing collected packages: google-cloud-speech\n",
            "Successfully installed google-cloud-speech-2.16.2\n"
          ]
        },
        {
          "output_type": "display_data",
          "data": {
            "application/vnd.colab-display-data+json": {
              "pip_warning": {
                "packages": [
                  "google"
                ]
              }
            }
          },
          "metadata": {}
        },
        {
          "output_type": "stream",
          "name": "stdout",
          "text": [
            "\u001b[31mERROR: You must give at least one requirement to install (see \"pip help install\")\u001b[0m\n",
            "Looking in indexes: https://pypi.org/simple, https://us-python.pkg.dev/colab-wheels/public/simple/\n",
            "Collecting pydub\n",
            "  Downloading pydub-0.25.1-py2.py3-none-any.whl (32 kB)\n",
            "Installing collected packages: pydub\n",
            "Successfully installed pydub-0.25.1\n"
          ]
        }
      ],
      "source": [
        "import os\n",
        "#install google cloud speech\n",
        "!pip install --upgrade google-cloud-speech\n",
        "!pip install \n",
        "!pip install pydub\n",
        "from google.cloud import speech"
      ]
    },
    {
      "cell_type": "code",
      "source": [
        "#set google environment & credentials\n",
        "os.environ['GOOGLE_APPLICATION_CREDENTIALS']= '/content/focus-cache-352904-ed1cafe80d42.json'\n",
        "speech_client=speech.SpeechClient()\n",
        "#!ls -l $GOOGLE_APPLICATION_CREDENTIALS"
      ],
      "metadata": {
        "id": "Rr7aLSAYhV9r"
      },
      "execution_count": 2,
      "outputs": []
    },
    {
      "cell_type": "code",
      "source": [
        "path='/content/sample1.wav'\n",
        "with open(path, \"rb\") as audio_file:\n",
        "    wavfile = audio_file.read()"
      ],
      "metadata": {
        "id": "4E3we0cYhdsA"
      },
      "execution_count": 3,
      "outputs": []
    },
    {
      "cell_type": "code",
      "source": [
        "#import for audio functions\n",
        "from pydub import AudioSegment\n",
        "from pydub.playback import play\n",
        "from IPython.display import Audio, display"
      ],
      "metadata": {
        "id": "6cl8xFlmhqX_"
      },
      "execution_count": 4,
      "outputs": []
    },
    {
      "cell_type": "code",
      "source": [
        "#create class for audio\n",
        "class Audioseg:\n",
        "  def __init__(self, path, start, end):\n",
        "    self.starttime=start*1000\n",
        "    self.endtime = end*1000\n",
        "    self.path=path"
      ],
      "metadata": {
        "id": "JMgJcqV8htDT"
      },
      "execution_count": 5,
      "outputs": []
    },
    {
      "cell_type": "code",
      "source": [
        "#configure wav file\n",
        "audioWav = speech.RecognitionAudio(content=wavfile)\n",
        "configWav = speech.RecognitionConfig(\n",
        "       encoding = 'LINEAR16',\n",
        "        language_code = 'en-US',\n",
        "        #sample_rate_hertz = 8000,\n",
        "        #audio_channel_count = 2,\n",
        "        enable_automatic_punctuation=True,\n",
        "        enable_word_time_offsets=True\n",
        ")"
      ],
      "metadata": {
        "id": "_wcVHUQdhwG4"
      },
      "execution_count": 6,
      "outputs": []
    },
    {
      "cell_type": "code",
      "source": [
        "AudioS=[]\n",
        "AudioS.append(Audioseg('/content/sample1.wav', 0, 4.5))\n",
        "newAudio = AudioSegment.from_wav(AudioS[len(AudioS)-1].path)\n",
        "newAudio = newAudio[AudioS[len(AudioS)-1].starttime*1000:AudioS[len(AudioS)-1].endtime]\n",
        "print(\"path: \" , AudioS[len(AudioS)-1].path , \"\\n\", (AudioS[len(AudioS)-1].starttime/1000) , \": \", (AudioS[len(AudioS)-1].endtime/1000), \" (second)\")\n",
        "display(newAudio)\n",
        "#display(Audio('/content/newSong.wav', autoplay=True))"
      ],
      "metadata": {
        "colab": {
          "base_uri": "https://localhost:8080/",
          "height": 86
        },
        "id": "7_5y2UcoiScy",
        "outputId": "cf5a9827-ec9d-4fae-e63d-8e41e42e460f"
      },
      "execution_count": 7,
      "outputs": [
        {
          "output_type": "stream",
          "name": "stdout",
          "text": [
            "path:  /content/sample1.wav \n",
            " 0.0 :  4.5  (second)\n"
          ]
        },
        {
          "output_type": "display_data",
          "data": {
            "text/plain": [
              "<pydub.audio_segment.AudioSegment at 0x7f2765241110>"
            ],
            "text/html": [
              "\n",
              "                    <audio controls>\n",
              "                        <source src=\"data:audio/mpeg;base64,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\" type=\"audio/mpeg\"/>\n",
              "                        Your browser does not support the audio element.\n",
              "                    </audio>\n",
              "                  "
            ]
          },
          "metadata": {}
        }
      ]
    },
    {
      "cell_type": "code",
      "source": [
        "#transcript and automatic punctuation added \n",
        "response = speech_client.recognize(config=configWav, audio=audioWav)\n",
        "done=0\n",
        "#a list to store audio fragments\n",
        "audioList=[]\n",
        "for i, result in enumerate(response.results):\n",
        "    alternative = result.alternatives[0]\n",
        "    print(\"-\" * 20)\n",
        "    print(\"First alternative of result {}\".format(i))\n",
        "    print(\"Transcript: {}\".format(alternative.transcript))\n",
        "    for word_info in alternative.words:\n",
        "            word = word_info.word\n",
        "            start_time = word_info.start_time\n",
        "            end_time = word_info.end_time\n",
        "            if(done==0):\n",
        "              start=start_time.total_seconds()\n",
        "              done=1\n",
        "            if word[-1]=='.' :\n",
        "                done=0\n",
        "                AudioS.append(Audioseg(path, start, end_time.total_seconds()))\n",
        "                newAudio = AudioSegment.from_wav(AudioS[len(AudioS)-1].path)\n",
        "                newAudio = newAudio[AudioS[len(AudioS)-1].starttime:AudioS[len(AudioS)-1].endtime]\n",
        "                audioList.append(newAudio)\n",
        "                print(\"path: \" , AudioS[len(AudioS)-1].path , \"\\n\", (AudioS[len(AudioS)-1].starttime/1000) , \": \", (AudioS[len(AudioS)-1].endtime/1000), \" (second)\")\n",
        "                #display(newAudio)\n",
        "                #print(\n",
        "                 # f\"Word: {word}, start_time: {start}, end_time: {end_time.total_seconds()}\"\n",
        "              #)\n",
        "print(f\"\\n\\n\\nAudio fragments (total {(len(audioList))+1}):\")    \n",
        "for i in audioList:\n",
        "  display(i)\n"
      ],
      "metadata": {
        "colab": {
          "base_uri": "https://localhost:8080/",
          "height": 1000
        },
        "id": "RmcCD_MficgI",
        "outputId": "fa3de570-e14e-4042-84de-7565d416a05a"
      },
      "execution_count": 10,
      "outputs": [
        {
          "output_type": "stream",
          "name": "stdout",
          "text": [
            "--------------------\n",
            "First alternative of result 0\n",
            "Transcript: Painted the sockets in the wall Bill Green. The child crawled into the dense grass, Brides fail, we're honest men work.\n",
            "path:  /content/sample1.wav \n",
            " 1.7 :  4.5  (second)\n",
            "path:  /content/sample1.wav \n",
            " 4.5 :  10.9  (second)\n",
            "--------------------\n",
            "First alternative of result 1\n",
            "Transcript:  Trampled the spark else. The Flames will spread. The hilt of the sword was carved with Fine Designs. A round hole was drilled through the thin board.\n",
            "path:  /content/sample1.wav \n",
            " 11.8 :  13.7  (second)\n",
            "path:  /content/sample1.wav \n",
            " 13.7 :  15.1  (second)\n",
            "path:  /content/sample1.wav \n",
            " 15.1 :  19.8  (second)\n",
            "path:  /content/sample1.wav \n",
            " 19.8 :  23.8  (second)\n",
            "--------------------\n",
            "First alternative of result 2\n",
            "Transcript:  Footprints show to the Past. He took up the beach.\n",
            "path:  /content/sample1.wav \n",
            " 25.3 :  27.5  (second)\n",
            "path:  /content/sample1.wav \n",
            " 27.5 :  29.0  (second)\n",
            "--------------------\n",
            "First alternative of result 3\n",
            "Transcript:  She was waiting at my front lawn.\n",
            "path:  /content/sample1.wav \n",
            " 30.1 :  32.4  (second)\n",
            "--------------------\n",
            "First alternative of result 4\n",
            "Transcript:  Event near the edge, brought in fresh air.\n",
            "path:  /content/sample1.wav \n",
            " 33.5 :  36.4  (second)\n",
            "--------------------\n",
            "First alternative of result 5\n",
            "Transcript:  Prod, the old mule with a Crooked Stick.\n",
            "path:  /content/sample1.wav \n",
            " 37.7 :  40.9  (second)\n",
            "\n",
            "\n",
            "\n",
            "Audio fragments (total 12):\n"
          ]
        },
        {
          "output_type": "display_data",
          "data": {
            "text/plain": [
              "<pydub.audio_segment.AudioSegment at 0x7f2764517a90>"
            ],
            "text/html": [
              "\n",
              "                    <audio controls>\n",
              "                        <source src=\"data:audio/mpeg;base64,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\" type=\"audio/mpeg\"/>\n",
              "                        Your browser does not support the audio element.\n",
              "                    </audio>\n",
              "                  "
            ]
          },
          "metadata": {}
        },
        {
          "output_type": "display_data",
          "data": {
            "text/plain": [
              "<pydub.audio_segment.AudioSegment at 0x7f276ccae950>"
            ],
            "text/html": [
              "\n",
              "                    <audio controls>\n",
              "                        <source src=\"data:audio/mpeg;base64,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\" type=\"audio/mpeg\"/>\n",
              "                        Your browser does not support the audio element.\n",
              "                    </audio>\n",
              "                  "
            ]
          },
          "metadata": {}
        },
        {
          "output_type": "display_data",
          "data": {
            "text/plain": [
              "<pydub.audio_segment.AudioSegment at 0x7f276450f8d0>"
            ],
            "text/html": [
              "\n",
              "                    <audio controls>\n",
              "                        <source src=\"data:audio/mpeg;base64,SUQzBAAAAAAAI1RTU0UAAAAPAAADTGF2ZjU3LjgzLjEwMAAAAAAAAAAAAAAA/+M4wAAAAAAAAAAAAEluZm8AAAAPAAAAHQAACQAAICAgKCgoMDAwMDg4OEBAQEBISEhQUFBQWFhYYGBgYGhoaHBwcHh4eHiAgICIiIiIkJCQmJiYmKCgoKioqKiwsLC4uLjAwMDAyMjI0NDQ0NjY2ODg4ODo6Ojw8PDw+Pj4////AAAAAExhdmM1Ny4xMAAAAAAAAAAAAAAAACQDoAAAAAAAAAkApNEgMwAAAAAAAAAAAAAAAAAAAAAAAAAAAAAAAAAAAAAAAAAAAAAAAAAAAAAAAAAAAAAA/+MYxAAJcAaGWADAACDrfd9/9y8PwficP1e+QU76JT9FF3xP9+t/+HpQ4j/P/b/+7/iBiZahgrR+qBtQhhI9YWJAxY69PV4v/+MYxBUKoEp0UBmGAEbS+S/Vs7X9P07f+Z+y/Sr9uL70/rUAARqSOSzesGwNiyCjtfsX+qnv0Jp2X/Z//+39v+8nWMf7fQz6/+MYxCUJUCqOWAiGAJUGQaCABwwPLzcuMrUjSFHdtAFTzwMKCyL/6te3/o/u////dWVmUDcnOsn+pqjoqoainRcqIBd6buI1/+MYxDoMyEpwEUwAAGw8c38JaSt9e+fhahmmo8////mXH1+nuefc//6fnzDDDG///+1DBbf///+PyeDeBXG4FcbmA3hfjf///+MYxEEXg6J8CY9QAP/biwsCmAHAvJgvGJGjcz/////+PB4wtk7joXA0OUrrOQC71EXlMn//003/77u6Lt3vfq7OqEONSJCg/+MYxB4UKr64AYEoAEAKLKpjbtQyJaGihVa72ncVYTFjL7tMsYJFKdyJMi1V5zKaswkLH3EjqEhAEw677J53RRJJJHD/l0HW/+MYxAgOqbbiQc0QAGheNq9ZmBkC1MTJ60GMh6kkmaqfrPnlfmB5X8KLVk7gzM9LaDG99XKt1bkZ/WQI3kE8mhigY+haeYxn/+MYxAgOweLZUALKCLnnCsSV/kCQfP+oin9DMr/mOf+VCP9Lf1t/cyn+ap0J8SOIOR93hWHsisTvgJAfOSQqIAAogEj2oFRL/+MYxAgOsPbJkAJECJvjloQ+BllaX1M5gIeb1US3+Y36BhQle6CrpYGhEGvPVgqDXlQ1qAoCf//+orjFgqW0JgUQlP/uSMp0/+MYxAgO2PqwyAvSEKLbpyixqh/hG1M4ubqeC7J2K+KWPhWrUSPSE1283//zKHguNEppqLaOTC8jBootn/+7wLVIARJy0AC3/+MYxAcM6Q7aWFJEZtRgCENjfUgJCb/ajkWhFEvGWTO/0CgIlFbIcBARKPW8KdrNuqFHCIpS6f0IUgagJ3/8pHA9n/+YVSA+/+MYxA4M4XrAUFgKoAnu/hFqhwlk+//U//Qj/IqC/5ImBzCm9DxMPn03t////////k6KPr/7GEgM/0wkDL//8wcDBT/6wV9A/+MYxBUMsILQUAFMBM5Ljolc0io9Omn3NXfWD////0SXs/KXmBYs4PnGIhbLYhlSUN/8QIDCwfeF5QwPBIO0KfIjNTuktJ9d/+MYxB0NQC7aeUIQAHr7j312Wt1lrP////2FwIdEZkRHQ6I0GgCwhmlAisKkR/0o/1MDRfG9UUluX6KrStczn13R//9NvRL//+MYxCMSCwKQUYkQAF/SqenX5fpr/X//en/f6ObmdSsav0///6K8GUSCJj1gwCrXfVVV/9v6Eg14ZjvNROwq1tNDXXBNaUrd/+MYxBUScT7EAY94ALapl9q5Vq3f9P2ar9ozTVWSLhSfN9/f7UrXyfMuBhgj4fiknlt+Xv+UUc0Cau/////rT9Rt////4tD//+MYxAYMmVrYAcYwAfaDAsUnOftGw+Vu7sZZiZsvcPsWokvfew8UaRHLKjYtA7aEdMQiBIk3MIeTSipePAD+4C/gwI4muwYF/+MYxA4MWErleUIYAVLkuylkrvn3Wbj/1su5/8FQmnwWGsfe+wclTyBkbPXLjxVotdOubSDkrm2PbTw+PaLfPNiaL15yrqna/+MYxBcSIXacIYxYAH0gi+Rc8aR6Ia8hYVTJst3xZ82NDTRhaWtZFub/F7pNk1yDKVt0oJvOwiwKwKCmOf6FW1/uMTn7B4Ra/+MYxAkNyp60AYEQAP6f/pf/qb/6yWOd6IYt1L/8nW36t73V/9exGf5/mqyigggUOHpUXBJDGf6kd3WqACQYkYAYQjBUvJf2/+MYxAwMcAqZucIQAJgKGP97mrJq/vWYWE7nB0mpU9rRkYKsWCoNC4a//kcTFhwNDwomFYODKwzRkCYyJ3QtOBCj2/os5nZd/+MYxBULqE54EBjSAP//Z+6mIgqaKpO1/maYiNBoXnhFga+j9jtVQTts0223QhEWIAsCIee233P/uc51/Z/ntPb+z9lGy536/+MYxCEKEAKaWUAAALcno+38h1pV/8T+GjPl4s69MpFguqHwsyOhbzfsDfEfGXVhIYf4w60sMFzjG/0J/D6OKIv/5/tMclTE/+MYxDMWeuqwAY8oAIiYIc+T7hwguDlYviwsFgKU03//v+i0o4h9UkGuDsUCf8B/4ePsLjvX//UZgqNboJALI9OfUZiQTHa1/+MYxBQNMUrVgcpAARuW/JDvVzjeuWDcUv9CggE9foLh+OtYtSrO+FFBhXP6Sg1W/wLQXeezIdD8fZjLTZiJKnvszQch2vWl/+MYxBoM0QasIDMMLNI01Gf/hsyrZpwUBAK57wSJAGDTITc1tEUqu22//2+AL6GVlT0Ymq5U3oYN7hQAekHWIBYiuOauTbi+/+MYxCEMaJ8CWUIQAqwHCOv9dgSW4qsUFA5b/z9FEkkABbG/xgFU/9KKVvXuf/9XCmBoYL8v/kKIMwkUJcyZv//UQqIVBJkV/+MYxCoPiwKQKYIQAZW6f//oa6UMrglMv////kVkDFEVqkxBTUUzLjEwMKqqqqqqqqqqqqqqqqqqqqqqqqqqqqqqqqqqqqqq/+MYxCYAAANIAcAAAKqqqqqqqqqqqqqqqqqqqqqqqqqqqqqqqqqqqqqqqqqqqqqqqqqqqqqqqqqqqqqqqqqqqqqqqqqqqqqq\" type=\"audio/mpeg\"/>\n",
              "                        Your browser does not support the audio element.\n",
              "                    </audio>\n",
              "                  "
            ]
          },
          "metadata": {}
        },
        {
          "output_type": "display_data",
          "data": {
            "text/plain": [
              "<pydub.audio_segment.AudioSegment at 0x7f27645175d0>"
            ],
            "text/html": [
              "\n",
              "                    <audio controls>\n",
              "                        <source src=\"data:audio/mpeg;base64,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\" type=\"audio/mpeg\"/>\n",
              "                        Your browser does not support the audio element.\n",
              "                    </audio>\n",
              "                  "
            ]
          },
          "metadata": {}
        },
        {
          "output_type": "display_data",
          "data": {
            "text/plain": [
              "<pydub.audio_segment.AudioSegment at 0x7f276450fd10>"
            ],
            "text/html": [
              "\n",
              "                    <audio controls>\n",
              "                        <source src=\"data:audio/mpeg;base64,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\" type=\"audio/mpeg\"/>\n",
              "                        Your browser does not support the audio element.\n",
              "                    </audio>\n",
              "                  "
            ]
          },
          "metadata": {}
        },
        {
          "output_type": "display_data",
          "data": {
            "text/plain": [
              "<pydub.audio_segment.AudioSegment at 0x7f276450fd90>"
            ],
            "text/html": [
              "\n",
              "                    <audio controls>\n",
              "                        <source src=\"data:audio/mpeg;base64,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\" type=\"audio/mpeg\"/>\n",
              "                        Your browser does not support the audio element.\n",
              "                    </audio>\n",
              "                  "
            ]
          },
          "metadata": {}
        },
        {
          "output_type": "display_data",
          "data": {
            "text/plain": [
              "<pydub.audio_segment.AudioSegment at 0x7f2764517450>"
            ],
            "text/html": [
              "\n",
              "                    <audio controls>\n",
              "                        <source src=\"data:audio/mpeg;base64,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\" type=\"audio/mpeg\"/>\n",
              "                        Your browser does not support the audio element.\n",
              "                    </audio>\n",
              "                  "
            ]
          },
          "metadata": {}
        },
        {
          "output_type": "display_data",
          "data": {
            "text/plain": [
              "<pydub.audio_segment.AudioSegment at 0x7f2764fd0110>"
            ],
            "text/html": [
              "\n",
              "                    <audio controls>\n",
              "                        <source src=\"data:audio/mpeg;base64,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\" type=\"audio/mpeg\"/>\n",
              "                        Your browser does not support the audio element.\n",
              "                    </audio>\n",
              "                  "
            ]
          },
          "metadata": {}
        },
        {
          "output_type": "display_data",
          "data": {
            "text/plain": [
              "<pydub.audio_segment.AudioSegment at 0x7f2764517e50>"
            ],
            "text/html": [
              "\n",
              "                    <audio controls>\n",
              "                        <source src=\"data:audio/mpeg;base64,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\" type=\"audio/mpeg\"/>\n",
              "                        Your browser does not support the audio element.\n",
              "                    </audio>\n",
              "                  "
            ]
          },
          "metadata": {}
        },
        {
          "output_type": "display_data",
          "data": {
            "text/plain": [
              "<pydub.audio_segment.AudioSegment at 0x7f2764578690>"
            ],
            "text/html": [
              "\n",
              "                    <audio controls>\n",
              "                        <source src=\"data:audio/mpeg;base64,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\" type=\"audio/mpeg\"/>\n",
              "                        Your browser does not support the audio element.\n",
              "                    </audio>\n",
              "                  "
            ]
          },
          "metadata": {}
        },
        {
          "output_type": "display_data",
          "data": {
            "text/plain": [
              "<pydub.audio_segment.AudioSegment at 0x7f2765b37850>"
            ],
            "text/html": [
              "\n",
              "                    <audio controls>\n",
              "                        <source src=\"data:audio/mpeg;base64,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\" type=\"audio/mpeg\"/>\n",
              "                        Your browser does not support the audio element.\n",
              "                    </audio>\n",
              "                  "
            ]
          },
          "metadata": {}
        }
      ]
    }
  ]
}